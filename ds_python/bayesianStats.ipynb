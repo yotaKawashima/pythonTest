{
 "cells": [
  {
   "cell_type": "markdown",
   "id": "e42eb6dc-e389-47f6-91fe-f520e0516c97",
   "metadata": {},
   "source": [
    "## Test Bayes"
   ]
  },
  {
   "cell_type": "code",
   "execution_count": 1,
   "id": "75424197-9cae-45d9-a60c-8a3b82dc6c1b",
   "metadata": {},
   "outputs": [],
   "source": [
    "import matplotlib.pyplot as plt\n",
    "from scipy.stats import bernoulli\n",
    "from scipy import optimize\n",
    "from scipy import stats\n",
    "import numpy as np\n",
    "import pandas as pd\n",
    "%matplotlib inline"
   ]
  },
  {
   "cell_type": "code",
   "execution_count": 2,
   "id": "17abfe7b-0022-45a0-88ad-c8a6be6d9d62",
   "metadata": {},
   "outputs": [],
   "source": [
    "plt.style.use(\"ggplot\")"
   ]
  },
  {
   "cell_type": "markdown",
   "id": "45e17a64-cb36-44e1-bfd5-ca7b37427ffd",
   "metadata": {},
   "source": [
    "## Problem 1-1\n",
    "\n",
    "There are two bags of balls each of which contains red balls and blue balls.\n",
    "\n",
    "Your child selects one bag, picks one ball from the bag, and put it back to the bag . \n",
    "He/she shows you that he/she got a blue ball, but does not tell which bag he/she chosen. \n",
    "\n",
    "Can you guess which bag he/she picked given the outcome?\n",
    "\n",
    "\n",
    "Here, lets assume the following. <br>\n",
    "bag A:3 red balls and 7 blue balls <br>\n",
    "bag B:6 red balls and 6 blue balls <br>\n",
    "(Usually, you don't have this detailed information. You need to make a statistical model and estimate its parameters. e.g. follow X distribution with parameter Y.)\n",
    "\n",
    "Also, you know he/she prefer bag A to bag B because bag A has a design of his/her favorite character. <br>\n",
    "You guess he/she picked bag A with a prob. of 0.7 (and bag B with a prob. of 0.3). "
   ]
  },
  {
   "cell_type": "code",
   "execution_count": 3,
   "id": "7ea2c7ed-015e-4158-808f-178c32fa4d82",
   "metadata": {},
   "outputs": [
    {
     "data": {
      "text/plain": [
       "([<matplotlib.axis.XTick at 0x7f16b3b47370>,\n",
       "  <matplotlib.axis.XTick at 0x7f16b3b47340>],\n",
       " [Text(0, 0, 'a'), Text(1, 0, 'b')])"
      ]
     },
     "execution_count": 3,
     "metadata": {},
     "output_type": "execute_result"
    },
    {
     "data": {
      "image/png": "[encoded data removed]",
      "text/plain": [
       "<Figure size 432x288 with 1 Axes>"
      ]
     },
     "metadata": {},
     "output_type": "display_data"
    }
   ],
   "source": [
    "p_a = 3 / 10 # p(y=red|x=A)\n",
    "p_b = 6 / 12 # p(y=red|x=B)\n",
    "p_prior = 0.7\n",
    "\n",
    "# 0:blue, 1:red\n",
    "pick_ball = [0]\n",
    "\n",
    "# likelihood \n",
    "# the probability of getting the result given x = A\n",
    "likelihood_a = bernoulli.pmf(pick_ball, p_a)\n",
    "# the probability of getting the result given x = B\n",
    "likelihood_b = bernoulli.pmf(pick_ball, p_b)\n",
    "\n",
    "pa_posterior = likelihood_a * p_prior # p(y=red|x=A) x p(x=A)\n",
    "pb_posterior = likelihood_b * (1 - p_prior) # p(y=red|x=B) x p(x=B)\n",
    "\n",
    "norm = pa_posterior + pb_posterior \n",
    "\n",
    "\n",
    "df = pd.DataFrame([pa_posterior/norm, pb_posterior/norm], columns=[\"post\"])\n",
    "x = np.arange(df.shape[0])\n",
    "plt.bar(x, df[\"post\"])\n",
    "plt.xticks(x, [\"a\", \"b\"])\n"
   ]
  },
  {
   "cell_type": "markdown",
   "id": "715d6ff5-c894-460c-b1fa-bfd0416ed4b9",
   "metadata": {},
   "source": [
    "### problem 1-2\n",
    "\n",
    "Now, he/she picks another ball from the same bag and put it back to the bag. <br>\n",
    "This time, it was a red ball. <br>\n",
    "Which bag do you think he/she selected more likely? "
   ]
  },
  {
   "cell_type": "code",
   "execution_count": 4,
   "id": "9fa0a151-e699-4b37-8c5f-1f2ab0e92ce0",
   "metadata": {},
   "outputs": [
    {
     "data": {
      "text/plain": [
       "([<matplotlib.axis.XTick at 0x7f16b32c3a00>,\n",
       "  <matplotlib.axis.XTick at 0x7f16b32c39d0>],\n",
       " [Text(0, 0, 'a'), Text(1, 0, 'b')])"
      ]
     },
     "execution_count": 4,
     "metadata": {},
     "output_type": "execute_result"
    },
    {
     "data": {
      "image/png": "[encoded data removed]",
      "text/plain": [
       "<Figure size 432x288 with 1 Axes>"
      ]
     },
     "metadata": {},
     "output_type": "display_data"
    }
   ],
   "source": [
    "pick_balls = [0, 1]\n",
    "\n",
    "# p(y1=red,y2=blue|x=A) x p(x=A) = p(y1=red|x=A) x p(y2=blue|x=A) \n",
    "# p(y1=red,y2=blue|x=A) x p(x=B) = p(y1=red|x=B) x p(y2=blue|x=B) \n",
    "# we can compute likelihood in this way because each ball-pick is independent.\n",
    "likelihood_a = np.prod(bernoulli.pmf(pick_balls, p_a)) \n",
    "likelihood_b = np.prod(bernoulli.pmf(pick_balls, p_b))\n",
    "\n",
    "pa_posterior = likelihood_a * p_prior\n",
    "pb_posterior = likelihood_b * (1 - p_prior)\n",
    "\n",
    "norm = pa_posterior + pb_posterior \n",
    "\n",
    "df = pd.DataFrame([pa_posterior/norm, pb_posterior/norm], columns=[\"post\"])\n",
    "x = np.arange(df.shape[0])\n",
    "plt.bar(x, df[\"post\"])\n",
    "plt.xticks(x, [\"a\", \"b\"])"
   ]
  },
  {
   "cell_type": "markdown",
   "id": "4828dd4a-0099-4678-a6a8-116d21d3f8f0",
   "metadata": {},
   "source": [
    "### problem 1-3\n",
    "\n",
    "Now, he/she picks + 4 ball and returns them back to the bag. <br>\n",
    "They were red, red, and red. <br>\n",
    "Which bag do you think he/she selected more likely?"
   ]
  },
  {
   "cell_type": "code",
   "execution_count": 5,
   "id": "8e8f9b52-086c-4867-8e90-4d36f0fc9b4d",
   "metadata": {},
   "outputs": [
    {
     "data": {
      "text/plain": [
       "([<matplotlib.axis.XTick at 0x7f16b3226c40>,\n",
       "  <matplotlib.axis.XTick at 0x7f16b3226c10>],\n",
       " [Text(0, 0, 'a'), Text(1, 0, 'b')])"
      ]
     },
     "execution_count": 5,
     "metadata": {},
     "output_type": "execute_result"
    },
    {
     "data": {
      "image/png": "[encoded data removed]",
      "text/plain": [
       "<Figure size 432x288 with 1 Axes>"
      ]
     },
     "metadata": {},
     "output_type": "display_data"
    }
   ],
   "source": [
    "pick_balls = [0, 1, 1, 1, 1]\n",
    "likelihood_a = np.prod(bernoulli.pmf(pick_balls, p_a))\n",
    "likelihood_b = np.prod(bernoulli.pmf(pick_balls, p_b))\n",
    "\n",
    "pa_posterior = likelihood_a * p_prior\n",
    "pb_posterior = likelihood_b * (1 - p_prior)\n",
    "\n",
    "norm = pa_posterior + pb_posterior \n",
    "\n",
    "df = pd.DataFrame([pa_posterior/norm, pb_posterior/norm], columns=[\"post\"])\n",
    "x = np.arange(df.shape[0])\n",
    "plt.bar(x, df[\"post\"])\n",
    "plt.xticks(x, [\"a\", \"b\"])"
   ]
  },
  {
   "cell_type": "markdown",
   "id": "1bb27c0e-a724-44a8-af6e-9cb33131145f",
   "metadata": {},
   "source": [
    "## Problem 2\n",
    "\n",
    "In the problem 1, we assume that we know how many red/blue balls each bag contain. <br>\n",
    "However, generally speaking, this kind of detailed information is unknown. <br>\n",
    "In such case, you need to make a statistical model and estimate its parameters. <br>\n",
    "\n",
    "We will learn what this means in the following example.\n",
    "\n",
    "Say, we measured hieght from 80 people. <br>\n",
    "Unlike the previous example, we don't know the underlying distribution. <br>\n",
    "i.e. what kind of probability distribution generates the observations. \n",
    "\n",
    "To make a guess, what you can do is visualisation. \n",
    "\n",
    "### Step 1. Visualise the data."
   ]
  },
  {
   "cell_type": "code",
   "execution_count": 6,
   "id": "1a0f6ec8-9d69-414a-9bb4-93e917f8a8b1",
   "metadata": {},
   "outputs": [
    {
     "data": {
      "text/html": [
       "<div>\n",
       "<style scoped>\n",
       "    .dataframe tbody tr th:only-of-type {\n",
       "        vertical-align: middle;\n",
       "    }\n",
       "\n",
       "    .dataframe tbody tr th {\n",
       "        vertical-align: top;\n",
       "    }\n",
       "\n",
       "    .dataframe thead th {\n",
       "        text-align: right;\n",
       "    }\n",
       "</style>\n",
       "<table border=\"1\" class=\"dataframe\">\n",
       "  <thead>\n",
       "    <tr style=\"text-align: right;\">\n",
       "      <th></th>\n",
       "      <th>height</th>\n",
       "    </tr>\n",
       "    <tr>\n",
       "      <th>id</th>\n",
       "      <th></th>\n",
       "    </tr>\n",
       "  </thead>\n",
       "  <tbody>\n",
       "    <tr>\n",
       "      <th>1</th>\n",
       "      <td>173.10</td>\n",
       "    </tr>\n",
       "    <tr>\n",
       "      <th>2</th>\n",
       "      <td>159.51</td>\n",
       "    </tr>\n",
       "    <tr>\n",
       "      <th>3</th>\n",
       "      <td>175.83</td>\n",
       "    </tr>\n",
       "    <tr>\n",
       "      <th>4</th>\n",
       "      <td>163.60</td>\n",
       "    </tr>\n",
       "    <tr>\n",
       "      <th>5</th>\n",
       "      <td>167.20</td>\n",
       "    </tr>\n",
       "  </tbody>\n",
       "</table>\n",
       "</div>"
      ],
      "text/plain": [
       "    height\n",
       "id        \n",
       "1   173.10\n",
       "2   159.51\n",
       "3   175.83\n",
       "4   163.60\n",
       "5   167.20"
      ]
     },
     "execution_count": 6,
     "metadata": {},
     "output_type": "execute_result"
    }
   ],
   "source": [
    "df = pd.read_excel(\"./data/MAP_data.xlsx\", index_col=\"id\")\n",
    "df.head()"
   ]
  },
  {
   "cell_type": "code",
   "execution_count": 7,
   "id": "240c5f22-3c19-4208-bcae-f2cfc24a5508",
   "metadata": {},
   "outputs": [
    {
     "data": {
      "text/plain": [
       "Text(0, 0.5, 'frequency')"
      ]
     },
     "execution_count": 7,
     "metadata": {},
     "output_type": "execute_result"
    },
    {
     "data": {
      "image/png": "[encoded data removed]",
      "text/plain": [
       "<Figure size 432x288 with 1 Axes>"
      ]
     },
     "metadata": {},
     "output_type": "display_data"
    }
   ],
   "source": [
    "plt.hist(df[\"height\"])\n",
    "plt.xlabel(\"height\")\n",
    "plt.ylabel(\"frequency\")"
   ]
  },
  {
   "cell_type": "markdown",
   "id": "4d3499fb-ad1e-4c0b-ab4b-cc2b44a58554",
   "metadata": {},
   "source": [
    "### Step 2. Make your statistical model and estimate the parameters.\n",
    "\n",
    "Based on the visual inspection, we assume that it is a normal distribition. <br>\n",
    "So, your statistical model is a simple normal distribition. <br>\n",
    "Here, you need two parameters, mean and variance, to define the distribution. <br>\n",
    "\n",
    "Of course, we do not know what they are. Then, we need to estimate them. <br>\n",
    "In this example, we try to find the parameters that are most likely to happen given the observations. \n",
    "\n",
    "f(parameters | observation) \n"
   ]
  },
  {
   "cell_type": "code",
   "execution_count": 8,
   "id": "d161d788-e1eb-4045-901a-b5ea8e8535a3",
   "metadata": {},
   "outputs": [],
   "source": [
    "def likelihood(mu, *args):\n",
    "    li = -np.log10(stats.norm.pdf(mu, loc=args))\n",
    "    return(np.sum(li))"
   ]
  },
  {
   "cell_type": "code",
   "execution_count": 9,
   "id": "4207fd05-0203-4196-af41-9c49d216e677",
   "metadata": {},
   "outputs": [
    {
     "data": {
      "text/plain": [
       "      fun: 941.1571402569105\n",
       " hess_inv: array([[1]])\n",
       "      jac: array([-7.62939453e-06])\n",
       "  message: 'Optimization terminated successfully.'\n",
       "     nfev: 6\n",
       "      nit: 1\n",
       "     njev: 3\n",
       "   status: 0\n",
       "  success: True\n",
       "        x: array([169.78480008])"
      ]
     },
     "execution_count": 9,
     "metadata": {},
     "output_type": "execute_result"
    }
   ],
   "source": [
    "optimize.minimize(likelihood, 170, args=df[\"height\"])"
   ]
  },
  {
   "cell_type": "code",
   "execution_count": null,
   "id": "02551d23-c67f-488c-bb40-e22b7c96853a",
   "metadata": {},
   "outputs": [],
   "source": []
  }
 ],
 "metadata": {
  "kernelspec": {
   "display_name": "Python 3 (ipykernel)",
   "language": "python",
   "name": "python3"
  },
  "language_info": {
   "codemirror_mode": {
    "name": "ipython",
    "version": 3
   },
   "file_extension": ".py",
   "mimetype": "text/x-python",
   "name": "python",
   "nbconvert_exporter": "python",
   "pygments_lexer": "ipython3",
   "version": "3.9.7"
  }
 },
 "nbformat": 4,
 "nbformat_minor": 5
}

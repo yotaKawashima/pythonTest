{
 "cells": [
  {
   "cell_type": "markdown",
   "id": "8f560995-8739-431c-b481-272b491e97cb",
   "metadata": {},
   "source": [
    "## section1"
   ]
  },
  {
   "cell_type": "code",
   "execution_count": 9,
   "id": "dd7ecef6-86dc-4ceb-9a9e-501fea2ac18f",
   "metadata": {},
   "outputs": [
    {
     "name": "stdout",
     "output_type": "stream",
     "text": [
      "test, 2\n",
      "test, 2\n"
     ]
    }
   ],
   "source": [
    "# format \n",
    "test1 = \"test\"\n",
    "test2 = \"2\"\n",
    "print(\"{}, {}\".format(test1, test2))\n",
    "\n",
    "#fstring\n",
    "print(f\"{test1}, {test2}\")"
   ]
  },
  {
   "cell_type": "code",
   "execution_count": 18,
   "id": "7ea58dad-79cc-4c1f-afeb-505dbe4469c2",
   "metadata": {},
   "outputs": [
    {
     "name": "stdout",
     "output_type": "stream",
     "text": [
      "139707241920816\n",
      "139707241920816\n",
      "139707241920848\n",
      "139707241920816\n",
      "True\n",
      "True\n",
      "139707201040240\n",
      "139707201040240\n",
      "True\n",
      "139707233372016\n"
     ]
    }
   ],
   "source": [
    "# is \n",
    "a = 1\n",
    "b = 1\n",
    "c = 2\n",
    "d = a\n",
    "print(id(a))\n",
    "print(id(b))\n",
    "print(id(c))\n",
    "print(id(d))\n",
    "\n",
    "print(a is b)\n",
    "print(a is not c)\n",
    "\n",
    "hello = \"hello\"\n",
    "hello2 = \"he\" + \"l\" + \"lo\"\n",
    "\n",
    "print(id(hello))\n",
    "print(id(hello2))\n",
    "print(hello is hello2)\n",
    "\n",
    "hello = \"test\"\n",
    "print(id(hello))"
   ]
  },
  {
   "cell_type": "code",
   "execution_count": 23,
   "id": "3cec6737-6808-45d4-a32f-a360e0c5d11d",
   "metadata": {},
   "outputs": [
    {
     "name": "stdout",
     "output_type": "stream",
     "text": [
      "a not is None\n",
      "10\n"
     ]
    }
   ],
   "source": [
    "# nan \n",
    "a = 10\n",
    "\n",
    "if a is None:\n",
    "    print(\"a is None\")\n",
    "else: \n",
    "    print(\"a not is None\")\n",
    "\n",
    "if a: \n",
    "    print(a)\n",
    "else:\n",
    "    print(\"a is None\")\n",
    "    "
   ]
  },
  {
   "cell_type": "code",
   "execution_count": 34,
   "id": "edffdf41-28f0-4d86-b8a9-20cb5a1097f7",
   "metadata": {},
   "outputs": [
    {
     "name": "stdin",
     "output_type": "stream",
     "text": [
      "how much ? 40\n"
     ]
    },
    {
     "name": "stdout",
     "output_type": "stream",
     "text": [
      "It is 40 AUD.\n",
      "I will get it.\n"
     ]
    },
    {
     "name": "stdin",
     "output_type": "stream",
     "text": [
      " Payment method\n",
      "1. card\n",
      "2. cash \n",
      " 1\n"
     ]
    },
    {
     "name": "stdout",
     "output_type": "stream",
     "text": [
      "You chose 1\n"
     ]
    }
   ],
   "source": [
    "# input()\n",
    "\n",
    "price = input(\"how much ?\")\n",
    "print(\"It is {} AUD.\".format(price))\n",
    "price_threshold = 100\n",
    "\n",
    "payment_method_option = \"\"\" Payment method\n",
    "1. card\n",
    "2. cash \n",
    "\"\"\"\n",
    "\n",
    "if int(price) >= price_threshold:\n",
    "    print(\"then, no thanks\")            \n",
    "else:\n",
    "    print(\"I will get it.\")\n",
    "    \n",
    "    payment_method = input(payment_method_option)\n",
    "    \n",
    "    if payment_method == '1' or '2':\n",
    "        print(f\"You chose {payment_method}\")\n",
    "    else: \n",
    "        print(\"we do not accept {}.\".format(payment_method))\n"
   ]
  },
  {
   "cell_type": "code",
   "execution_count": 21,
   "id": "d6a58149-dba3-45c0-be0e-7ad1d0e03372",
   "metadata": {},
   "outputs": [
    {
     "name": "stdout",
     "output_type": "stream",
     "text": [
      "['tata', 1, True, ['apple', 'peach', 'melon']]\n",
      "['apple', 'peach', 'melon', 'banana']\n",
      "['apple', 'grapes', 'peach', 'melon', 'banana']\n",
      "['grapes', 'peach', 'melon', 'banana']\n",
      "['peach', 'melon', 'grapes', 'banana']\n",
      "the length of list: 4\n",
      "['melon', 'grapes']\n",
      "['melon', 'grapes', 'banana']\n",
      "['melon']\n",
      "['banana', 'grapes', 'melon', 'peach']\n",
      "[1, 2, 3, 4, 5, 6, 7, 8]\n",
      "[1, 2, 3, 4, 5, 6, 7, 8, [5, 6, 7, 8]]\n",
      "[1, 2, 3, 4, 5, 6, 7, 8]\n",
      "peach/melon/grapes/banana\n",
      "['peach', 'melon', 'grapes', 'banana']\n",
      "py\n",
      "list a contains 3?: True\n",
      "[0, 4, 16, 36, 64]\n"
     ]
    }
   ],
   "source": [
    "# list \n",
    "\n",
    "fruits = ['apple', 'peach', 'melon']\n",
    "test_list = ['tata', 1, True, fruits]\n",
    "print(test_list)\n",
    "\n",
    "# list method\n",
    "fruits.append('banana')\n",
    "print(fruits)\n",
    "fruits.insert(1, 'grapes')\n",
    "print(fruits)\n",
    "fruits.remove('apple')\n",
    "print(fruits)\n",
    "fruits.sort(reverse=True)\n",
    "print(fruits)\n",
    "\n",
    "\n",
    "print(f\"the length of list: {len(fruits)}\")\n",
    "\n",
    "print(fruits[1:-1])\n",
    "print(fruits[1:])\n",
    "print(fruits[1:3:2])\n",
    "print(fruits[::-1])\n",
    "\n",
    "a = [1, 2, 3, 4]\n",
    "b = [5, 6, 7, 8]\n",
    "\n",
    "c = a + b\n",
    "print(c)\n",
    "c.append(b)\n",
    "print(c)\n",
    "\n",
    "a = a + b\n",
    "print(a)\n",
    "\n",
    "# join (str list)\n",
    "text = \"/\".join(fruits)\n",
    "print(text)\n",
    "\n",
    "# split\n",
    "print(text.split(\"/\"))\n",
    "\n",
    "filename = \"test.py\"\n",
    "print(filename.split(\".\")[-1])\n",
    "\n",
    "# in \n",
    "print(f\"list a contains 3?: {3 in a}\")\n",
    "\n",
    "\n",
    "square_list = [i **2 for i in range(10) if i % 2 == 0]\n",
    "print(square_list)"
   ]
  },
  {
   "cell_type": "code",
   "execution_count": 18,
   "id": "e0282b6d-15ba-4535-875e-31d30f0d4fbd",
   "metadata": {},
   "outputs": [
    {
     "name": "stdout",
     "output_type": "stream",
     "text": [
      "I like apple, 0\n",
      "I like peach, 1\n",
      "I like grapes, 2\n",
      "apple\n",
      "peach\n",
      "grapes\n",
      "hello\n",
      "hello\n",
      "y\n",
      "y\n",
      "x\n"
     ]
    }
   ],
   "source": [
    "# for \n",
    "fruits = ['apple', 'peach', 'grapes']\n",
    "\n",
    "for idx, fruit in enumerate(fruits): \n",
    "    print(\"I like {}, {}\".format(fruit, idx))\n",
    "\n",
    "for x in enumerate(fruits):\n",
    "    print(x[1])\n",
    "    \n",
    "for _ in range(2):\n",
    "    print(\"hello\")\n",
    "\n",
    "for i in range(1, 11):\n",
    "    if i % 5 == 0:\n",
    "        print('x')\n",
    "        break\n",
    "    elif i % 2 == 0:\n",
    "        print('y')        \n",
    "else:\n",
    "    print(\"all\")"
   ]
  },
  {
   "cell_type": "code",
   "execution_count": 10,
   "id": "3099c27a-59fb-4519-93a4-b5e316180b2a",
   "metadata": {},
   "outputs": [
    {
     "name": "stdout",
     "output_type": "stream",
     "text": [
      "10\n"
     ]
    },
    {
     "name": "stdin",
     "output_type": "stream",
     "text": [
      "How much is it?  3\n"
     ]
    },
    {
     "name": "stdout",
     "output_type": "stream",
     "text": [
      "the price is 3\n"
     ]
    }
   ],
   "source": [
    "# while \n",
    "\n",
    "count = 0\n",
    "while count < 10:\n",
    "    count += 1\n",
    "else: \n",
    "    print(count)\n",
    "    \n",
    "while True: \n",
    "    money = int(input(\"How much is it?\"))\n",
    "    \n",
    "    if not 0 <= money < 120:\n",
    "        print(\"type the correct price\")\n",
    "        continue\n",
    "    else:\n",
    "        print(f\"the price is {money}\")\n",
    "        break\n",
    "    "
   ]
  },
  {
   "cell_type": "code",
   "execution_count": null,
   "id": "30fcc560-e2ae-4831-a557-c00446132028",
   "metadata": {},
   "outputs": [],
   "source": []
  }
 ],
 "metadata": {
  "kernelspec": {
   "display_name": "Python 3 (ipykernel)",
   "language": "python",
   "name": "python3"
  },
  "language_info": {
   "codemirror_mode": {
    "name": "ipython",
    "version": 3
   },
   "file_extension": ".py",
   "mimetype": "text/x-python",
   "name": "python",
   "nbconvert_exporter": "python",
   "pygments_lexer": "ipython3",
   "version": "3.9.7"
  }
 },
 "nbformat": 4,
 "nbformat_minor": 5
}

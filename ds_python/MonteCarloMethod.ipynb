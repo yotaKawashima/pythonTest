{
 "cells": [
  {
   "cell_type": "markdown",
   "id": "b7d2ea03-32e1-43f7-9be8-e321e1945238",
   "metadata": {
    "tags": []
   },
   "source": [
    "### Monte Carlo\n",
    "\n",
    "Compute pi using Monte Carlo method.\n",
    "\n",
    "Picture this.\n",
    "You have a quadrant of a circle with the centre (0, 0) and the radious 1. <br>\n",
    "Its surface area S is pi /4. <br>\n",
    "\n",
    "<div>\n",
    "<img src=\"./images/pi_picture.png\" width=\"250\"/>\n",
    "</div>\n",
    "\n",
    "Here, we try to estimate pi in the following way. <br>\n",
    "You plot a dot randomly within the box and see how many dots fall into the quadrant circle. <br>\n",
    "Here, the probability will be given by <br>\n",
    "prob = (surface area of the quadrant circle) / (surface area of the box) = (pi/4) / 1 = pi/4\n",
    "Therefore, by estimating the probability, you can compute the pi value!"
   ]
  },
  {
   "cell_type": "code",
   "execution_count": 1,
   "id": "48156fa5-a023-443d-89ba-01819ac92a46",
   "metadata": {},
   "outputs": [
    {
     "name": "stderr",
     "output_type": "stream",
     "text": [
      "/opt/anaconda3/lib/python3.9/site-packages/IPython/html.py:12: ShimWarning: The `IPython.html` package has been deprecated since IPython 4.0. You should import from `notebook` instead. `IPython.html.widgets` has moved to `ipywidgets`.\n",
      "  warn(\"The `IPython.html` package has been deprecated since IPython 4.0. \"\n"
     ]
    }
   ],
   "source": [
    "import numpy as np\n",
    "import pandas as pd\n",
    "import matplotlib.pyplot as plt\n",
    "from IPython.html.widgets import interact \n",
    "%matplotlib inline"
   ]
  },
  {
   "cell_type": "code",
   "execution_count": 2,
   "id": "fd8794e3-f1a3-4e8b-a7b5-eb33e40b2aea",
   "metadata": {},
   "outputs": [],
   "source": [
    "plt.style.use(\"ggplot\")\n",
    "np.random.seed(123)"
   ]
  },
  {
   "cell_type": "code",
   "execution_count": 6,
   "id": "1db55c4d-0add-42f0-8533-9defefc9b65a",
   "metadata": {},
   "outputs": [
    {
     "data": {
      "application/vnd.jupyter.widget-view+json": {
       "model_id": "b370841be0504fdea23d15e27cab7b08",
       "version_major": 2,
       "version_minor": 0
      },
      "text/plain": [
       "interactive(children=(IntSlider(value=0, description='MonteCarloStep'), Output()), _dom_classes=('widget-inter…"
      ]
     },
     "metadata": {},
     "output_type": "display_data"
    }
   ],
   "source": [
    "# Set the max of Monte Carlo step \n",
    "n_MonteCarlo = 100\n",
    "\n",
    "# Get random values \n",
    "x_MonteCarlo = np.random.rand(n_MonteCarlo)\n",
    "y_MonteCarlo = np.random.rand(n_MonteCarlo)\n",
    "\n",
    "@interact(MonteCarloStep=(0, n_MonteCarlo, 1))\n",
    "def animation(MonteCarloStep=0):\n",
    "    plt.figure(figsize=(6,6))\n",
    "    \n",
    "    # draw circle and box\n",
    "    # circle\n",
    "    x = np.arange(0,1,0.001)\n",
    "    y = np.sqrt((1 - x ** 2))    \n",
    "    plt.plot(x, y)\n",
    "    plt.fill_between(x, y, alpha=0.3)\n",
    "    # box\n",
    "    y2 = np.ones(x.shape[0])\n",
    "    plt.fill_between(x, y, y2, alpha=0.3)\n",
    "    plt.xlim([0, 1])\n",
    "    plt.ylim([0, 1])\n",
    "    \n",
    "    # Plot the dots up to the Monte Carlo step \n",
    "    plt.scatter(x_MonteCarlo[:MonteCarloStep], y_MonteCarlo[:MonteCarloStep], color=\"black\", marker=\".\")\n",
    "    \n",
    "    plt.show()\n",
    "    \n",
    "    # Compute the distance between each dot and the centre of the circle (0, 0).\n",
    "    r = np.sqrt((x_MonteCarlo[:MonteCarloStep] ** 2 + y_MonteCarlo[:MonteCarloStep] ** 2)) \n",
    "    \n",
    "    # Count the number of dots within the circle.\n",
    "    count = np.sum(np.where(r<=1, 1, 0))\n",
    "    # Compute the probability\n",
    "    prob = count / MonteCarloStep\n",
    "    print(\"Monte Carlo = \", prob)\n",
    "    print(\"Analytic = \", np.pi/4)"
   ]
  },
  {
   "cell_type": "code",
   "execution_count": 4,
   "id": "cf2e8159-675e-4f31-9ff5-bf99fa7857ba",
   "metadata": {},
   "outputs": [
    {
     "data": {
      "text/plain": [
       "Text(0, 0.5, 'probability')"
      ]
     },
     "execution_count": 4,
     "metadata": {},
     "output_type": "execute_result"
    },
    {
     "data": {
      "image/png": "[encoded data removed]",
      "text/plain": [
       "<Figure size 432x288 with 1 Axes>"
      ]
     },
     "metadata": {},
     "output_type": "display_data"
    }
   ],
   "source": [
    "# Set the max of Monte Carlo step \n",
    "n_MonteCarlo = 2000\n",
    "\n",
    "# Get random values \n",
    "x_MonteCarlo = np.random.rand(n_MonteCarlo)\n",
    "y_MonteCarlo = np.random.rand(n_MonteCarlo)\n",
    "\n",
    "pi_MonteCarloStep = []\n",
    "\n",
    "# Keep prob as you increase the Monte Carlo step\n",
    "for MonteCarloStep in range(1, n_MonteCarlo):\n",
    "    r = (x_MonteCarlo[:MonteCarloStep] ** 2 + y_MonteCarlo[:MonteCarloStep] ** 2) ** (1/2)\n",
    "    count = np.sum(np.where(r<=1, 1, 0))\n",
    "    prob = count / MonteCarloStep\n",
    "    \n",
    "    pi_MonteCarloStep.append(prob)\n",
    "\n",
    "pi_x = np.arange(len(pi_MonteCarloStep)) + 1\n",
    "\n",
    "plt.plot(pi_x, pi_MonteCarloStep)\n",
    "plt.hlines(np.pi/4, pi_x[0], pi_x[-1], linestyles=\"dashed\")\n",
    "plt.xlabel(\"Monte Carlo Step\")\n",
    "plt.ylabel(\"probability\")"
   ]
  },
  {
   "cell_type": "code",
   "execution_count": null,
   "id": "73cc91c5-2c6c-49a1-8540-d4d32cbddb78",
   "metadata": {},
   "outputs": [],
   "source": []
  }
 ],
 "metadata": {
  "kernelspec": {
   "display_name": "Python 3 (ipykernel)",
   "language": "python",
   "name": "python3"
  },
  "language_info": {
   "codemirror_mode": {
    "name": "ipython",
    "version": 3
   },
   "file_extension": ".py",
   "mimetype": "text/x-python",
   "name": "python",
   "nbconvert_exporter": "python",
   "pygments_lexer": "ipython3",
   "version": "3.9.7"
  }
 },
 "nbformat": 4,
 "nbformat_minor": 5
}
